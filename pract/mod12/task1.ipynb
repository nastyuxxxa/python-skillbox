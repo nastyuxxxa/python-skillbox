{
 "cells": [
  {
   "cell_type": "code",
   "execution_count": 3,
   "metadata": {},
   "outputs": [],
   "source": [
    "import sqlite3\n",
    "netflix_db = sqlite3.connect('netflix.sqlite')\n",
    "task_db = sqlite3.connect(\"task1.sqlite\")\n",
    "netflix_db.row_factory = lambda cursor, row: {col[0]: row[i] for i, col in enumerate(cursor.description)}"
   ]
  },
  {
   "cell_type": "markdown",
   "metadata": {},
   "source": [
    "Создаём таблицу:"
   ]
  },
  {
   "cell_type": "code",
   "execution_count": 4,
   "metadata": {},
   "outputs": [],
   "source": [
    "task_cur = task_db.cursor()\n",
    "with task_db:\n",
    "  task_cur.execute(\"\"\"\n",
    "  CREATE TABLE films (\n",
    "    film_id INTEGER PRIMARY KEY AUTOINCREMENT,\n",
    "    type TEXT,\n",
    "    title TEXT,\n",
    "    director TEXT,\n",
    "    country TEXT,\n",
    "    date_added TEXT,\n",
    "    release_year INTEGER,\n",
    "    rating TEXT,\n",
    "    duration TEXT,\n",
    "    listed_in TEXT,\n",
    "    description TEXT\n",
    "  );\n",
    "  \"\"\")\n",
    "  task_cur.execute(\"\"\"\n",
    "  CREATE TABLE actors (\n",
    "    actor_id INTEGER PRIMARY KEY AUTOINCREMENT,\n",
    "    actor_name TEXT UNIQUE\n",
    "  );\n",
    "  \"\"\")\n",
    "  task_cur.execute(\"\"\"\n",
    "    CREATE TABLE actors_films (\n",
    "    film_id INTEGER,\n",
    "    actor_id INTEGER,\n",
    "    PRIMARY KEY (actor_id, film_id),\n",
    "    FOREIGN KEY (film_id) REFERENCES films(film_id),\n",
    "    FOREIGN KEY (actor_id) REFERENCES actors(actor_id)\n",
    "  );\n",
    "  \"\"\")"
   ]
  },
  {
   "cell_type": "markdown",
   "metadata": {},
   "source": [
    "Задание 1. Нормализуем базу данных относительно актеров. "
   ]
  },
  {
   "cell_type": "code",
   "execution_count": 5,
   "metadata": {},
   "outputs": [],
   "source": [
    "netflix_cur = netflix_db.cursor()\n",
    "task_cur = task_db.cursor()\n",
    "\n",
    "insert_query = \"\"\"\n",
    "INSERT INTO films (type, title, director, country, date_added, release_year, rating, duration, listed_in, description)\n",
    "VALUES (:type, :title, :director, :country, :date_added, :release_year, :rating, :duration, :listed_in, :description);\n",
    "\"\"\"\n",
    "\n",
    "actors_films_insert_query = \"\"\"\n",
    "INSERT OR IGNORE INTO actors_films (film_id, actor_id)\n",
    "VALUES (?, (SELECT actor_id FROM actors WHERE actor_name = ?));\n",
    "\"\"\"\n",
    "\n",
    "with netflix_db, task_db:\n",
    "    for row in netflix_cur.execute(\"SELECT * FROM netflix_titles\"):\n",
    "        task_cur.execute(insert_query, row)\n",
    "        film_id = task_cur.execute(\"SELECT last_insert_rowid() FROM films;\").fetchone()[0]\n",
    "        \n",
    "        for actor in row[\"cast\"].split(\", \"):\n",
    "            task_cur.execute(\"INSERT OR IGNORE INTO actors (actor_name) VALUES (?)\", (actor,))\n",
    "            task_cur.execute(actors_films_insert_query, (film_id, actor))"
   ]
  },
  {
   "cell_type": "markdown",
   "metadata": {},
   "source": [
    "Задание 2. Вычисляем наиболее часто работающую друг с другом пару актеров."
   ]
  },
  {
   "cell_type": "code",
   "execution_count": 6,
   "metadata": {},
   "outputs": [
    {
     "data": {
      "text/plain": [
       "('John Paul Tremblay', 'Robb Wells')"
      ]
     },
     "execution_count": 6,
     "metadata": {},
     "output_type": "execute_result"
    }
   ],
   "source": [
    "with task_db:\n",
    "    most_freq_pair = task_cur.execute(\"\"\"\n",
    "    SELECT a1.actor_name as name1, a2.actor_name as name2\n",
    "    FROM actors_films af1\n",
    "    JOIN actors_films af2 ON af1.film_id = af2.film_id AND af1.actor_id < af2.actor_id\n",
    "    JOIN actors a1 ON af1.actor_id = a1.actor_id\n",
    "    JOIN actors a2 ON af2.actor_id = a2.actor_id\n",
    "    GROUP BY af1.actor_id, af2.actor_id\n",
    "    ORDER BY COUNT(*) DESC\n",
    "    LIMIT 1;\n",
    "    \"\"\").fetchone()\n",
    "most_freq_pair"
   ]
  }
 ],
 "metadata": {
  "kernelspec": {
   "display_name": "Python 3",
   "language": "python",
   "name": "python3"
  },
  "language_info": {
   "codemirror_mode": {
    "name": "ipython",
    "version": 3
   },
   "file_extension": ".py",
   "mimetype": "text/x-python",
   "name": "python",
   "nbconvert_exporter": "python",
   "pygments_lexer": "ipython3",
   "version": "3.11.5"
  }
 },
 "nbformat": 4,
 "nbformat_minor": 2
}
